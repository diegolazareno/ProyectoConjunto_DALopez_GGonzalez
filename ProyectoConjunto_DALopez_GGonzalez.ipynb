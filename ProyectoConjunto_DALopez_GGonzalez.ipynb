{
 "cells": [
  {
   "cell_type": "markdown",
   "metadata": {},
   "source": [
    "<img style=\"float: left; margin: 30px 15px 15px 15px;\" src=\"https://pngimage.net/wp-content/uploads/2018/06/logo-iteso-png-5.png\" width=\"300\" height=\"500\" /> \n",
    "    \n",
    "    \n",
    "### <font color='navy'> Simulación de procesos financieros. \n",
    "\n",
    "**Nombres:** Diego Alberto López Lazareno, Gerardo González Flores\n",
    "\n",
    "**Fecha:** 31 de agosto del 2021.\n",
    "\n",
    "**Expediente** : IF722100, IF721430.\n",
    "**Profesor:** Oscar David Jaramillo Zuluaga.\n",
    "    \n",
    "**Link Github**: https://github.com/diegolazareno/ProyectoConjunto_DALopez_GGonzalez\n",
    "\n",
    "# Tarea 1: Clase 2"
   ]
  },
  {
   "cell_type": "markdown",
   "metadata": {},
   "source": [
    "## Enunciado de tarea \n",
    "\n",
    "1.  El archivo debe realizarse en parejas y sólo uno de los dos debe crear en su cuenta de *Github* un repositorio con el nombre **ProyectoConjunto\\_APELLIDO1\\_APELLIDO2**. A la persona que creó el repositorio la llamaremos (ESTUDIANTE 1 ). El APELLIDO se debe de escribir (Iniciales del nombre y primer apellido), por ejemplo si yo creara el archivo lo debería de nombrar *ProyectoConjunto\\_ODJaramillo*. \n",
    "2.  Posteriormente, desde la cuenta del (ESTUDIANTE 2), 'aquel que no creó el repositorio anterior', ingresar al perfil del ESTUDIANTE 1 y en el repositorio creado en el paso 1, realizar un \"fork\" de este repositorio en su perfil, y además realizar los pasos en Gitkraken para hacer dicho repositorio \"Remoto (REMOTE)\" VER DICHO PROCEDIMIENTO EN LA CLASE **Clase2_GitTurorial2**.\n",
    "3.  Luego de realizados los pasos 1 y 2, el ESTUDIANTE 1 y ESTUDIANTE 2, desde su computador realizar un *clone* del repositorio creado en el numeral 1 en la carpeta que cada quién haya asignado para el curso en su computador. \n",
    "4.  Luego desde Jupyter el ESTUDIANTE 1, crea un nuevo ``notebook`` en el repositorio del paso 3. \n",
    "5.  En este nuevo notebook el ESTUDIANTE 1 y ESTUDIANTE 2, deben realizar una presentación describiendo sus expectativas del curso y la transcipción de la Figura 1 y Figura 2 respectivamente, haciendo uso de la sintaxis Markdown. Recuerden definir unas celdas donde cada usuario modificará el cuaderno de python para evitar futuros conflictos. \n",
    "6. Cuando ya se encuentre el proyecto conjunto con la información del ESTUDIANTE 1 y ESTUDIANTE 2, el ``ESTUDIANTE 2``  debe de realizar un `pull request` con las modificaciones realizadas a el `ESTUDIANTE 1` para que este realice un merge a la rama `master`, con las moficaciones propuestas por el `ESTUDIANTE 2`, TAL Y CÓMO SE REALIZÓ EN CLASE. (Recuerden que los pull request se generan en *Gitkraken* y se administran los comentarios o cambios propuestos por su compañero desde *Github* ver `Clase1_GitTurorial` para aclaración de dudas, donde se explica cómo crear *branch y pull request*)\n",
    "7. Luego de culminado los pasos anteriores, el ESTUDIANTE 1,realizará un programa que imprima la serie de fibonacci para sus primeros 100 términos en un array de python,usando la rama “master” del repositorio creado. Por otro lado, el ESTUDIANTE 2,creando un “branch” llamado `ejerPrograma`, generará un programa que muestre los números primos del 0-100. Luego de que el ESTUDIANTE 2 haya terminado su programa, debe de realizar un “pull request” al ESTUDIANTE 1, **ANTES** de hacer un “merge” de la rama `ejerPrograma` en el proyecto principal (“master”). Luego de realizado estos pasos **NO BORRAR LA RAMA CREADA (`ejerPrograma`)**"
   ]
  },
  {
   "cell_type": "markdown",
   "metadata": {},
   "source": [
    "### Ejercicio 1. Expectativas del Curso"
   ]
  },
  {
   "cell_type": "markdown",
   "metadata": {},
   "source": [
    "Diego"
   ]
  },
  {
   "cell_type": "markdown",
   "metadata": {},
   "source": [
    "1. Aplicar herramientas estadísticas para modelar distintos escenarios financieros y de negocios\n",
    "2. Aprender más acerca del uso de plataformas colaborativas como Git y GitKraken\n",
    "3. Programar más en Python\n",
    "4. Enfatizar en la valuación de opciones financieras exóticas"
   ]
  },
  {
   "cell_type": "markdown",
   "metadata": {},
   "source": [
    "Gerardo "
   ]
  },
  {
   "cell_type": "markdown",
   "metadata": {},
   "source": [
    "1. Aprender más sobre programación\n",
    "2. Aplicar simulaciones a problemas reales de las finanzas\n",
    "3. Poder entender lo visto en clase\n",
    "4. Que los trabajos/tareas en equipo ayuden a el proceso de aprendizaje de los temas vistos"
   ]
  },
  {
   "cell_type": "markdown",
   "metadata": {},
   "source": [
    "### Ejercicio 2. Transcripción de las Figuras"
   ]
  },
  {
   "cell_type": "markdown",
   "metadata": {},
   "source": [
    "Diego"
   ]
  },
  {
   "cell_type": "markdown",
   "metadata": {},
   "source": [
    "| $i$ |   $x$  |  $f(x)$  |\n",
    "|:-:|:----:|:------:|\n",
    "| 0 |  -1  | 0.3678 |\n",
    "| <font color = \"red\"> 1 | <font color = \"red\"> -0.5 | <font color = \"red\"> 0.7788 |\n",
    "| <font color = \"blue\"> 2 | <font color = \"blue\"> 0    | <font color = \"blue\">   1    |\n",
    "| <font color = \"red\"> 3 | <font color = \"red\"> 0.5  | <font color = \"red\"> 0.7788 |\n",
    "| 4 |   1  | 0.3678 |\n",
    "\n",
    "<br>\n",
    "\n",
    "<div align = \"center\"> Cuadro 1: Tabla de valores de $f(x)$ </div>\n",
    "\n",
    "<br>\n",
    "\n",
    "$$\n",
    "\\begin{align}\n",
    "\\int_{-1}^{1} e^{-x^{2}} dx & \\approx \\frac{0,5}{3} \\left[ f(-1) + f(1) + 4 \\left( \\color{red} {f \\left( -0,5 \\right) + f \\left( 0,5 \\right)} \\right) + 2 \\color{blue} { f\\left( 0 \\right)}  \\right] \\\\ & \\approx \\frac{0,5}{3} \\left[ 0,3678 + 0,3678 + 4 \\left( \\color{red} {0,7788 + 0,7788} \\right) + 2 \\cdot \\color{blue} {1}  \\right] \\approx 1,4943\n",
    "\\end{align}\n",
    "$$\n",
    "\n",
    "<br>\n",
    "\n",
    "<div align = \"center\"> <div style = \"text-align: justify; width : 650px\">  &emsp; A modo de verificación, se calculará por software, el valor del área para $n = 100$, un valor mucho más elevado al que se utilizó anteriormente. Si lo calculado previamente es correcto, se esperaría que sea próximo al valor presentado a continuación para ser una buena aproximación. </div> </div>\n",
    "  \n",
    "<br>\n",
    "   \n",
    "$$ \\int_{-1}^{1} e^{-x^{2}} dx \\approx 1,4936 $$"
   ]
  },
  {
   "cell_type": "markdown",
   "metadata": {},
   "source": [
    "Gerardo "
   ]
  },
  {
   "cell_type": "markdown",
   "metadata": {},
   "source": [
    "| $i$       | $1$   | $2$   | $3$   | $4$   | $5$ | $6$ | $7$  |\n",
    "|---------|-----|-----|-----|-----|---|---|----|\n",
    "| $E_i(V)$   | $12$  | $10$  | $24$  | $12$  | $-$ | $-$ | $-$  |\n",
    "| $r_i(\\Omega)$ | $0.1$ | $0.5$ | $0.2$ | $0.5$ | $-$ | $-$ | $-$  |\n",
    "| $R_i(\\Omega)$ | $25$  | $40$  | $16$  | $20$  | $9$ | $4$ | $20$ | \n",
    "\n",
    "\n",
    "\n",
    "\n",
    "<div style = \"text-align: justify\"> &emsp; <font color = \"dodgerblue\"> Kemna y Vorst (1990) </font> muestran que las opciones asiáticas con media geométrica continua se pueden valuar con el mismo enfoque de las opciones <em> plain vanilla; </em> solo se deben cambiar los parámetros de volatilidad $\\sigma$ por $\\sigma_a$, y el costo de acarreo $b$ por $b_A$. <br> &emsp; De acuerdo con Kemna y Vorst, las fórmulas para valuar una opción de compra y una opción de venta son: </div> \n",
    " \n",
    "&emsp; $c \\approx S_t e^{(b_A -r)(T-t)}\\phi(d_1)-Ke^{-r(T-t)}\\phi(d_2),$ <p style='text-align: right;'> (3) </p>\n",
    "&emsp; $p \\approx K e^{-r(T-t)}\\phi(-d_2)-S_t e^{(b_A -r)(T-t)}\\phi(-d_1).$\n",
    "\n",
    "con $d_1$ y $d_2$ dados por:\n",
    "\n",
    "&emsp; $d_1 = \\frac{ln(S_i/K)+(b_A + 1/2\\sigma_a^2)(T-t)}{\\sigma\\sqrt{T-t}} $ <p style='text-align: right;'> (4) </p>\n",
    "&emsp; $d_2 = d_1 - \\sigma_a\\sqrt{T-t}$\n",
    "\n",
    "La función $\\phi(d)$ es la función de distribución acumulada de $E\\sim N(0,1)$. La volatilidad ajustada es igual a:\n",
    "\n",
    "$\\sigma_a = \\frac{\\sigma}{\\sqrt{3}},$\n",
    "\n",
    "mientras que el costo de acarreo ajustado es:\n",
    "\n",
    "$b_A = \\frac{1}{2} \\left(v-\\frac{\\sigma^2}{6}\\right). $"
   ]
  },
  {
   "cell_type": "markdown",
   "metadata": {},
   "source": [
    "### Ejercicio 3.  Programas"
   ]
  },
  {
   "cell_type": "markdown",
   "metadata": {},
   "source": [
    "**Código de Diego**\n",
    "\n",
    "Realizará un programa que imprima la serie de fibonacci para sus primeros 100 términos en un array de python,usando la rama “master” del repositorio creado."
   ]
  },
  {
   "cell_type": "code",
   "execution_count": null,
   "metadata": {},
   "outputs": [],
   "source": [
    "# Código"
   ]
  },
  {
   "cell_type": "markdown",
   "metadata": {},
   "source": []
  },
  {
   "cell_type": "markdown",
   "metadata": {},
   "source": [
    "**Código de Gerardo** \n",
    "\n",
    "Creando un “branch” llamado `ejerPrograma`, generará un programa que muestre los números primos del 0-100."
   ]
  },
  {
   "cell_type": "code",
   "execution_count": null,
   "metadata": {},
   "outputs": [],
   "source": [
    "# Código"
   ]
  },
  {
   "cell_type": "markdown",
   "metadata": {},
   "source": []
  }
 ],
 "metadata": {
  "kernelspec": {
   "display_name": "Python 3",
   "language": "python",
   "name": "python3"
  },
  "language_info": {
   "codemirror_mode": {
    "name": "ipython",
    "version": 3
   },
   "file_extension": ".py",
   "mimetype": "text/x-python",
   "name": "python",
   "nbconvert_exporter": "python",
   "pygments_lexer": "ipython3",
   "version": "3.7.1"
  }
 },
 "nbformat": 4,
 "nbformat_minor": 2
}
